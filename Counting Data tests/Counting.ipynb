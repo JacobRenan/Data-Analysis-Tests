{
 "cells": [
  {
   "cell_type": "code",
   "execution_count": 4,
   "metadata": {},
   "outputs": [],
   "source": [
    "import pandas as pd # manipulação de dados em formato de dataframe\n",
    "import numpy as np # operações matemáticas\n",
    "import seaborn as sns # visualização gráfica\n",
    "import matplotlib.pyplot as plt # visualização gráfica\n",
    "from math import exp, factorial # funções matemáticas 'exp' e 'factorial'\n",
    "import statsmodels.api as sm # estimação de modelos\n",
    "import statsmodels.formula.api as smf # estimação de modelos de contagem\n",
    "from statsmodels.discrete.count_model import ZeroInflatedNegativeBinomialP,ZeroInflatedPoisson\n",
    "# pacote acima para a estimação dos modelos ZINB e ZIP, respectivamente\n",
    "from statsmodels.discrete.discrete_model import NegativeBinomial, Poisson\n",
    "# pacote anterior para a realização do teste de Vuong\n",
    "from scipy import stats # estatística chi2\n",
    "from statsmodels.iolib.summary2 import summary_col # comparação entre modelos\n"
   ]
  },
  {
   "cell_type": "markdown",
   "metadata": {},
   "source": [
    "## Teste de verossimilhança"
   ]
  },
  {
   "cell_type": "markdown",
   "metadata": {},
   "source": [
    "Teste de verossimilhança: consiste no teste de hipótese para verificar se dois ou mais testes são diferentes estatisticamente\n",
    "\n",
    "- Caso p-value < 0.05: H1 -> modelos diferentes, e o melhor modelo é o que possui o maior Log-Like\n",
    "- Caso p-value > 0.05: H0 -> modelos não são estatisticamente diferentes a um nível de confiança de 95%"
   ]
  },
  {
   "cell_type": "code",
   "execution_count": null,
   "metadata": {},
   "outputs": [],
   "source": [
    "def lrtest(modelos):\n",
    "    modelo_1 = modelos[0]\n",
    "    llk_1 = modelo_1.llnull\n",
    "    llk_2 = modelo_1.llf\n",
    "    \n",
    "    if len(modelos)>1:\n",
    "        llk_1 = modelo_1.llf\n",
    "        llk_2 = modelos[1].llf\n",
    "    LR_statistic = -2*(llk_1-llk_2)\n",
    "    p_val = stats.chi2.sf(LR_statistic, 1)\n",
    "    \n",
    "    print(\"Likelihood Ratio Test:\")\n",
    "    print(f\"-2.(LL0-LLm): {round(LR_statistic, 2)}\")\n",
    "    print(f\"p-value: {p_val:.3f}\")\n",
    "    print(\"\")\n",
    "    print(\"==================Result======================== \\n\")\n",
    "    if p_val <= 0.05:\n",
    "        print(\"H1: Different models, favoring the one with the highest Log-Likelihood\")\n",
    "    else:\n",
    "        print(\"H0: Models with log-likelihoods that are not statistically different at 95% confidence level\")"
   ]
  },
  {
   "cell_type": "markdown",
   "metadata": {},
   "source": [
    "## Teste de superdispersão"
   ]
  },
  {
   "cell_type": "markdown",
   "metadata": {},
   "source": [
    "O teste de superdispersão indica se a distribuição de uma variável dependente Y possui uma variância muito maior que sua média.\n",
    "Caso haja a superdispersão, o modelo mais adequado para a predição é o Binomial Negativo (Poisson-Gamma) em detrimento do modelo de Poisson\n",
    "\n",
    "- Caso p-value > 0.05: equidispersão\n",
    "- Caso p-value < 0.05: superdispersão"
   ]
  },
  {
   "cell_type": "code",
   "execution_count": null,
   "metadata": {},
   "outputs": [],
   "source": [
    "overdisp(modelo, data_source)"
   ]
  },
  {
   "cell_type": "markdown",
   "metadata": {},
   "source": [
    "## Teste de Vuong"
   ]
  },
  {
   "cell_type": "markdown",
   "metadata": {},
   "source": [
    "O teste de Vuong descreve a existência ou não de uma quantidade excessiva de zeros na variável dependente Y representará um importante output a ser analisado na estimação de modelos de regressão para dados de contagem, quando houver a suspeita de existência de inflação de zeros"
   ]
  },
  {
   "cell_type": "markdown",
   "metadata": {},
   "source": [
    "- Caso p-value > 0.05: H1 -> haverá inflação de zeros\n",
    "- Caso p-value < 0.05: H0 -> não haverá inflação de zeros"
   ]
  },
  {
   "cell_type": "code",
   "execution_count": null,
   "metadata": {},
   "outputs": [],
   "source": [
    "def vuong_test(m1, m2):\n",
    "\n",
    "    from scipy.stats import norm    \n",
    "\n",
    "    if m1.__class__.__name__ == \"GLMResultsWrapper\":\n",
    "        \n",
    "        glm_family = modelo_poisson.model.family\n",
    "\n",
    "        X = pd.DataFrame(data=m1.model.exog, columns=m1.model.exog_names)\n",
    "        y = pd.Series(m1.model.endog, name=m1.model.endog_names)\n",
    "\n",
    "        if glm_family.__class__.__name__ == \"Poisson\":\n",
    "            m1 = Poisson(endog=y, exog=X).fit()\n",
    "            \n",
    "        if glm_family.__class__.__name__ == \"NegativeBinomial\":\n",
    "            m1 = NegativeBinomial(endog=y, exog=X, loglike_method='nb2').fit()\n",
    "\n",
    "    supported_models = [ZeroInflatedPoisson,ZeroInflatedNegativeBinomialP,Poisson,NegativeBinomial]\n",
    "    \n",
    "    if type(m1.model) not in supported_models:\n",
    "        raise ValueError(f\"Model type not supported for first parameter. List of supported models: (ZeroInflatedPoisson, ZeroInflatedNegativeBinomialP, Poisson, NegativeBinomial) from statsmodels discrete collection.\")\n",
    "        \n",
    "    if type(m2.model) not in supported_models:\n",
    "        raise ValueError(f\"Model type not supported for second parameter. List of supported models: (ZeroInflatedPoisson, ZeroInflatedNegativeBinomialP, Poisson, NegativeBinomial) from statsmodels discrete collection.\")\n",
    "    \n",
    "    # Extração das variáveis dependentes dos modelos\n",
    "    m1_y = m1.model.endog\n",
    "    m2_y = m2.model.endog\n",
    "\n",
    "    m1_n = len(m1_y)\n",
    "    m2_n = len(m2_y)\n",
    "\n",
    "    if m1_n == 0 or m2_n == 0:\n",
    "        raise ValueError(\"Could not extract dependent variables from models.\")\n",
    "\n",
    "    if m1_n != m2_n:\n",
    "        raise ValueError(\"Models appear to have different numbers of observations.\\n\"\n",
    "                         f\"Model 1 has {m1_n} observations.\\n\"\n",
    "                         f\"Model 2 has {m2_n} observations.\")\n",
    "\n",
    "    if np.any(m1_y != m2_y):\n",
    "        raise ValueError(\"Models appear to have different values on dependent variables.\")\n",
    "        \n",
    "    m1_linpred = pd.DataFrame(m1.predict(which=\"prob\"))\n",
    "    m2_linpred = pd.DataFrame(m2.predict(which=\"prob\"))        \n",
    "\n",
    "    m1_probs = np.repeat(np.nan, m1_n)\n",
    "    m2_probs = np.repeat(np.nan, m2_n)\n",
    "\n",
    "    which_col_m1 = [list(m1_linpred.columns).index(x) if x in list(m1_linpred.columns) else None for x in m1_y]    \n",
    "    which_col_m2 = [list(m2_linpred.columns).index(x) if x in list(m2_linpred.columns) else None for x in m2_y]\n",
    "\n",
    "    for i, v in enumerate(m1_probs):\n",
    "        m1_probs[i] = m1_linpred.iloc[i, which_col_m1[i]]\n",
    "\n",
    "    for i, v in enumerate(m2_probs):\n",
    "        m2_probs[i] = m2_linpred.iloc[i, which_col_m2[i]]\n",
    "\n",
    "    lm1p = np.log(m1_probs)\n",
    "    lm2p = np.log(m2_probs)\n",
    "\n",
    "    m = lm1p - lm2p\n",
    "\n",
    "    v = np.sum(m) / (np.std(m) * np.sqrt(len(m)))\n",
    "\n",
    "    pval = 1 - norm.cdf(v) if v > 0 else norm.cdf(v)\n",
    "\n",
    "    print(\"Vuong Non-Nested Hypothesis Test-Statistic (Raw):\")\n",
    "    print(f\"Vuong z-statistic: {round(v, 3)}\")\n",
    "    print(f\"p-value: {pval:.3f}\")\n",
    "    print(\"\")\n",
    "    print(\"==================Result======================== \\n\")\n",
    "    if pval <= 0.05:\n",
    "        print(\"H1: Indicates inflation of zeros at 95% confidence level\")\n",
    "    else:\n",
    "        print(\"H0: Indicates no inflation of zeros at 95% confidence level\")"
   ]
  }
 ],
 "metadata": {
  "kernelspec": {
   "display_name": "Python 3",
   "language": "python",
   "name": "python3"
  },
  "language_info": {
   "codemirror_mode": {
    "name": "ipython",
    "version": 3
   },
   "file_extension": ".py",
   "mimetype": "text/x-python",
   "name": "python",
   "nbconvert_exporter": "python",
   "pygments_lexer": "ipython3",
   "version": "3.12.1"
  }
 },
 "nbformat": 4,
 "nbformat_minor": 2
}
